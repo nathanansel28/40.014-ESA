{
 "cells": [
  {
   "cell_type": "code",
   "execution_count": 2,
   "metadata": {},
   "outputs": [],
   "source": [
    "import pandas as pd\n",
    "import os"
   ]
  },
  {
   "cell_type": "markdown",
   "metadata": {},
   "source": [
    "### 01 Mendeley - A benchmark dataset for multi-objective flexible job shop cell scheduling"
   ]
  },
  {
   "cell_type": "code",
   "execution_count": 20,
   "metadata": {},
   "outputs": [],
   "source": [
    "folders = [\"Large\", \"Medium\", \"Small\"]\n",
    "for folder in folders: \n",
    "    filenames = os.listdir(f\"01_Mendeley//{folder}\")\n",
    "    for filename in filenames: \n",
    "        if filename[-3:] == \"csv\":\n",
    "            df = pd.read_csv(f\"01_Mendeley//{folder}//{filename}\", sep=\";\")\n",
    "            df.to_csv(f\"01_Mendeley//Cleaned_{folder}//{filename}\")"
   ]
  }
 ],
 "metadata": {
  "kernelspec": {
   "display_name": "Python 3",
   "language": "python",
   "name": "python3"
  },
  "language_info": {
   "codemirror_mode": {
    "name": "ipython",
    "version": 3
   },
   "file_extension": ".py",
   "mimetype": "text/x-python",
   "name": "python",
   "nbconvert_exporter": "python",
   "pygments_lexer": "ipython3",
   "version": "3.11.1"
  }
 },
 "nbformat": 4,
 "nbformat_minor": 2
}
